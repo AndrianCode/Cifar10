{
 "cells": [
  {
   "cell_type": "code",
   "execution_count": 1,
   "metadata": {},
   "outputs": [
    {
     "name": "stderr",
     "output_type": "stream",
     "text": [
      "Using TensorFlow backend.\n"
     ]
    }
   ],
   "source": [
    "from keras.datasets import cifar10\n",
    "from keras.utils import np_utils\n",
    "from keras.models import Sequential\n",
    "from keras.layers.core import Dense, Dropout, Activation, Flatten\n",
    "from keras.layers.convolutional import Conv2D, MaxPooling2D\n",
    "from keras.optimizers import SGD, Adam, RMSprop\n",
    "import matplotlib.pyplot as plt\n",
    "\n"
   ]
  },
  {
   "cell_type": "code",
   "execution_count": 2,
   "metadata": {},
   "outputs": [
    {
     "name": "stdout",
     "output_type": "stream",
     "text": [
      "X_train shape: (50000, 32, 32, 3)\n",
      "50000 train samples\n",
      "10000 test samples\n"
     ]
    }
   ],
   "source": [
    "# CIFAR_10 is a set of 60K images 32x32 pixels on 3 channels(RGB)\n",
    "IMG_CHANNELS = 3\n",
    "IMG_ROWS = 32\n",
    "IMG_COLS = 32\n",
    "\n",
    "#CONSTANT\n",
    "BATCH_SIZE = 128 # images count after each neural network calculate loss error\n",
    "NB_EPOCH = 20 # count of epoch\n",
    "NB_CLASSES = 10 # count of images classes types\n",
    "VERBOSE = 1\n",
    "VALIDATION_SPLIT = 0.2 # 20% for test of images and 80% for training \n",
    "OPTIM = RMSprop() \n",
    "\n",
    "#load dataset\n",
    "(X_train, y_train), (X_test, y_test) = cifar10.load_data()\n",
    "print('X_train shape:', X_train.shape)\n",
    "print(X_train.shape[0], 'train samples')\n",
    "print(X_test.shape[0], 'test samples')\n"
   ]
  },
  {
   "cell_type": "code",
   "execution_count": 3,
   "metadata": {},
   "outputs": [
    {
     "name": "stdout",
     "output_type": "stream",
     "text": [
      "Model: \"sequential_1\"\n",
      "_________________________________________________________________\n",
      "Layer (type)                 Output Shape              Param #   \n",
      "=================================================================\n",
      "conv2d_1 (Conv2D)            (None, 32, 32, 32)        896       \n",
      "_________________________________________________________________\n",
      "activation_1 (Activation)    (None, 32, 32, 32)        0         \n",
      "_________________________________________________________________\n",
      "conv2d_2 (Conv2D)            (None, 32, 32, 32)        9248      \n",
      "_________________________________________________________________\n",
      "activation_2 (Activation)    (None, 32, 32, 32)        0         \n",
      "_________________________________________________________________\n",
      "max_pooling2d_1 (MaxPooling2 (None, 16, 16, 32)        0         \n",
      "_________________________________________________________________\n",
      "dropout_1 (Dropout)          (None, 16, 16, 32)        0         \n",
      "_________________________________________________________________\n",
      "conv2d_3 (Conv2D)            (None, 16, 16, 64)        18496     \n",
      "_________________________________________________________________\n",
      "activation_3 (Activation)    (None, 16, 16, 64)        0         \n",
      "_________________________________________________________________\n",
      "conv2d_4 (Conv2D)            (None, 14, 14, 64)        36928     \n",
      "_________________________________________________________________\n",
      "activation_4 (Activation)    (None, 14, 14, 64)        0         \n",
      "_________________________________________________________________\n",
      "max_pooling2d_2 (MaxPooling2 (None, 7, 7, 64)          0         \n",
      "_________________________________________________________________\n",
      "dropout_2 (Dropout)          (None, 7, 7, 64)          0         \n",
      "_________________________________________________________________\n",
      "flatten_1 (Flatten)          (None, 3136)              0         \n",
      "_________________________________________________________________\n",
      "dense_1 (Dense)              (None, 512)               1606144   \n",
      "_________________________________________________________________\n",
      "activation_5 (Activation)    (None, 512)               0         \n",
      "_________________________________________________________________\n",
      "dense_2 (Dense)              (None, 10)                5130      \n",
      "_________________________________________________________________\n",
      "activation_6 (Activation)    (None, 10)                0         \n",
      "=================================================================\n",
      "Total params: 1,676,842\n",
      "Trainable params: 1,676,842\n",
      "Non-trainable params: 0\n",
      "_________________________________________________________________\n"
     ]
    },
    {
     "name": "stderr",
     "output_type": "stream",
     "text": [
      "/usr/local/lib/python3.7/site-packages/ipykernel_launcher.py:22: UserWarning: Update your `Conv2D` call to the Keras 2 API: `Conv2D(64, (3, 3))`\n"
     ]
    }
   ],
   "source": [
    "#convert to categorical\n",
    "Y_train = np_utils.to_categorical(y_train, NB_CLASSES)\n",
    "Y_test = np_utils.to_categorical(y_test, NB_CLASSES)\n",
    "\n",
    "#normalization images to 0-1 range from 0-255\n",
    "X_train = X_train.astype('float32')\n",
    "X_test = X_test.astype('float32')\n",
    "X_train /= 255\n",
    "X_test /= 255\n",
    "\n",
    "#network\n",
    "model = Sequential()\n",
    "model.add(Conv2D(32,(3,3), padding=\"same\", \n",
    "                 input_shape = (IMG_ROWS, IMG_COLS, IMG_CHANNELS))) # create feature map(contrast image)\n",
    "model.add(Activation(\"relu\")) # save active pixels >0\n",
    "model.add(Conv2D(32,(3,3), padding = \"same\"))\n",
    "model.add(Activation(\"relu\"))\n",
    "model.add(MaxPooling2D(pool_size = (2,2))) # divide image to square 2*2 and get max value\n",
    "model.add(Dropout(0.25)) # 25% filters off \n",
    "model.add(Conv2D(64,(3,3),padding = 'same'))\n",
    "model.add(Activation(\"relu\"))\n",
    "model.add(Conv2D(64, 3, 3))\n",
    "model.add(Activation(\"relu\"))\n",
    "model.add(MaxPooling2D(pool_size = (2,2)))\n",
    "model.add(Dropout(0.25))\n",
    "model.add(Flatten()) # create vector\n",
    "model.add(Dense(512)) # vector of 512 elements\n",
    "model.add(Activation(\"relu\"))\n",
    "model.add(Dense(NB_CLASSES)) # create finish vector with size 10 \n",
    "model.add(Activation('softmax')) # find max activation element(find type of object)\n",
    "model.summary()"
   ]
  },
  {
   "cell_type": "code",
   "execution_count": 4,
   "metadata": {},
   "outputs": [
    {
     "name": "stdout",
     "output_type": "stream",
     "text": [
      "Train on 40000 samples, validate on 10000 samples\n",
      "Epoch 1/20\n",
      "40000/40000 [==============================] - 72s 2ms/step - loss: 1.7489 - accuracy: 0.3679 - val_loss: 1.4381 - val_accuracy: 0.4826\n",
      "Epoch 2/20\n",
      "40000/40000 [==============================] - 67s 2ms/step - loss: 1.2581 - accuracy: 0.5556 - val_loss: 1.1256 - val_accuracy: 0.6105\n",
      "Epoch 3/20\n",
      "40000/40000 [==============================] - 65s 2ms/step - loss: 1.0322 - accuracy: 0.6343 - val_loss: 0.9675 - val_accuracy: 0.6642\n",
      "Epoch 4/20\n",
      "40000/40000 [==============================] - 65s 2ms/step - loss: 0.8793 - accuracy: 0.6912 - val_loss: 0.8577 - val_accuracy: 0.7000\n",
      "Epoch 5/20\n",
      "40000/40000 [==============================] - 65s 2ms/step - loss: 0.7542 - accuracy: 0.7361 - val_loss: 0.8426 - val_accuracy: 0.7078\n",
      "Epoch 6/20\n",
      "40000/40000 [==============================] - 64s 2ms/step - loss: 0.6441 - accuracy: 0.7721 - val_loss: 0.7277 - val_accuracy: 0.7504\n",
      "Epoch 7/20\n",
      "40000/40000 [==============================] - 65s 2ms/step - loss: 0.5551 - accuracy: 0.8087 - val_loss: 0.8447 - val_accuracy: 0.7270\n",
      "Epoch 8/20\n",
      "40000/40000 [==============================] - 65s 2ms/step - loss: 0.4692 - accuracy: 0.8356 - val_loss: 0.7820 - val_accuracy: 0.7515\n",
      "Epoch 9/20\n",
      "40000/40000 [==============================] - 66s 2ms/step - loss: 0.3946 - accuracy: 0.8626 - val_loss: 0.7547 - val_accuracy: 0.7682\n",
      "Epoch 10/20\n",
      "40000/40000 [==============================] - 65s 2ms/step - loss: 0.3229 - accuracy: 0.8867 - val_loss: 0.8203 - val_accuracy: 0.7623\n",
      "Epoch 11/20\n",
      "40000/40000 [==============================] - 65s 2ms/step - loss: 0.2741 - accuracy: 0.9044 - val_loss: 0.9120 - val_accuracy: 0.7550\n",
      "Epoch 12/20\n",
      "40000/40000 [==============================] - 65s 2ms/step - loss: 0.2376 - accuracy: 0.9171 - val_loss: 0.9498 - val_accuracy: 0.7435\n",
      "Epoch 13/20\n",
      "40000/40000 [==============================] - 64s 2ms/step - loss: 0.2047 - accuracy: 0.9283 - val_loss: 0.9467 - val_accuracy: 0.7614\n",
      "Epoch 14/20\n",
      "40000/40000 [==============================] - 66s 2ms/step - loss: 0.1819 - accuracy: 0.9372 - val_loss: 0.9962 - val_accuracy: 0.7636\n",
      "Epoch 15/20\n",
      "40000/40000 [==============================] - 65s 2ms/step - loss: 0.1596 - accuracy: 0.9456 - val_loss: 1.0209 - val_accuracy: 0.7675\n",
      "Epoch 16/20\n",
      "40000/40000 [==============================] - 65s 2ms/step - loss: 0.1437 - accuracy: 0.9512 - val_loss: 1.1256 - val_accuracy: 0.7642\n",
      "Epoch 17/20\n",
      "40000/40000 [==============================] - 65s 2ms/step - loss: 0.1424 - accuracy: 0.9529 - val_loss: 1.1764 - val_accuracy: 0.7569\n",
      "Epoch 18/20\n",
      "40000/40000 [==============================] - 64s 2ms/step - loss: 0.1285 - accuracy: 0.9560 - val_loss: 1.1352 - val_accuracy: 0.7658\n",
      "Epoch 19/20\n",
      "40000/40000 [==============================] - 65s 2ms/step - loss: 0.1152 - accuracy: 0.9606 - val_loss: 1.3825 - val_accuracy: 0.7569\n",
      "Epoch 20/20\n",
      "40000/40000 [==============================] - 66s 2ms/step - loss: 0.1045 - accuracy: 0.9643 - val_loss: 1.3919 - val_accuracy: 0.7636\n",
      "10000/10000 [==============================] - 4s 445us/step\n",
      "Test score: 1.452359327697754\n",
      "Test accuracy: 0.7501000165939331\n"
     ]
    }
   ],
   "source": [
    "#train\n",
    "model.compile(loss='categorical_crossentropy',optimizer = OPTIM,\n",
    "             metrics = ['accuracy']) # use categorical_crossentropy function to minimase the error \n",
    "model.fit(X_train,Y_train,batch_size=BATCH_SIZE,verbose = VERBOSE, \n",
    "          epochs = NB_EPOCH, validation_split = VALIDATION_SPLIT)\n",
    "score = model.evaluate(X_test,Y_test,batch_size=BATCH_SIZE,verbose = VERBOSE)\n",
    "\n",
    "print(\"Test score:\", score[0])\n",
    "print('Test accuracy:', score[1])\n",
    "#save\n",
    "model_json = model.to_json()\n",
    "open('cifar10_architecture.json','w').write(model_json)\n",
    "model.save_weights('cifar10_weights.h5', overwrite = True)\n"
   ]
  },
  {
   "cell_type": "code",
   "execution_count": 8,
   "metadata": {},
   "outputs": [],
   "source": [
    "# load_model_sample.py\n",
    "from keras.models import load_model\n",
    "from keras.preprocessing import image\n",
    "import matplotlib.pyplot as plt\n",
    "import numpy as np\n",
    "import os\n",
    "from PIL import Image\n",
    "\n",
    "\n",
    "def load_image(img_path, show=False):\n",
    "\n",
    "    img = image.load_img(img_path, target_size=(32, 32))\n",
    "    img_tensor = image.img_to_array(img)                    # (height, width, channels)\n",
    "    img_tensor = np.expand_dims(img_tensor, axis=0)         # (1, height, width, channels), add a dimension because the model expects this shape: (batch_size, height, width, channels)\n",
    "    img_tensor /= 255.                                      # imshow expects values in the range [0, 1]\n",
    "\n",
    "    if show:\n",
    "        plt.imshow(img_tensor[0])                           \n",
    "        plt.axis('off')\n",
    "        plt.show()\n",
    "\n",
    "    return img_tensor\n",
    "\n",
    "\n",
    "\n"
   ]
  },
  {
   "cell_type": "code",
   "execution_count": 10,
   "metadata": {},
   "outputs": [],
   "source": [
    "from keras.models import load_model\n",
    "from keras.models import model_from_json\n",
    "import json\n",
    "\n",
    "with open('cifar10_architecture.json','r') as f:\n",
    "    model_json = f.read()\n",
    "\n",
    "model = model_from_json(model_json)\n",
    "model.load_weights('cifar10_weights.h5')\n"
   ]
  },
  {
   "cell_type": "code",
   "execution_count": 11,
   "metadata": {},
   "outputs": [],
   "source": [
    "target_classes = {\n",
    "    0: \"airplane\",\n",
    "    1:\"automobile\",\n",
    "    2:\"bird\",\n",
    "    3:\"cat\",\n",
    "    4:\"deer\",\n",
    "    5:\"dog\",\n",
    "    6:\"frog\",\n",
    "    7:\"horse\",\n",
    "    8:\"ship\",\n",
    "    9:\"truck\"\n",
    "}\n"
   ]
  },
  {
   "cell_type": "code",
   "execution_count": 13,
   "metadata": {},
   "outputs": [
    {
     "data": {
      "image/png": "[encoded data removed]",
      "text/plain": [
       "<Figure size 432x288 with 1 Axes>"
      ]
     },
     "metadata": {
      "needs_background": "light"
     },
     "output_type": "display_data"
    },
    {
     "data": {
      "text/plain": [
       "'airplane'"
      ]
     },
     "execution_count": 13,
     "metadata": {},
     "output_type": "execute_result"
    }
   ],
   "source": [
    "target_image = load_image(\"plane.jpg\", True)\n",
    "pred = model.predict_classes(target_image)\n",
    "target_classes[pred[0]]"
   ]
  },
  {
   "cell_type": "code",
   "execution_count": null,
   "metadata": {},
   "outputs": [],
   "source": []
  }
 ],
 "metadata": {
  "kernelspec": {
   "display_name": "Python 3",
   "language": "python",
   "name": "python3"
  },
  "language_info": {
   "codemirror_mode": {
    "name": "ipython",
    "version": 3
   },
   "file_extension": ".py",
   "mimetype": "text/x-python",
   "name": "python",
   "nbconvert_exporter": "python",
   "pygments_lexer": "ipython3",
   "version": "3.7.3"
  }
 },
 "nbformat": 4,
 "nbformat_minor": 2
}
